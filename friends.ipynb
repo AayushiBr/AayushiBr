{
  "nbformat": 4,
  "nbformat_minor": 0,
  "metadata": {
    "colab": {
      "name": "friends.ipynb",
      "provenance": [],
      "collapsed_sections": [],
      "mount_file_id": "1pofwFeoXPbZ-glikm6YGSvLW-j2IVezM",
      "authorship_tag": "ABX9TyPNZz6EH6L6R/BGRtYZMbDU",
      "include_colab_link": true
    },
    "kernelspec": {
      "name": "python3",
      "display_name": "Python 3"
    },
    "language_info": {
      "name": "python"
    }
  },
  "cells": [
    {
      "cell_type": "markdown",
      "metadata": {
        "id": "view-in-github",
        "colab_type": "text"
      },
      "source": [
        "<a href=\"https://colab.research.google.com/github/AayushiBr/AayushiBr/blob/main/friends.ipynb\" target=\"_parent\"><img src=\"https://colab.research.google.com/assets/colab-badge.svg\" alt=\"Open In Colab\"/></a>"
      ]
    },
    {
      "cell_type": "code",
      "execution_count": 1,
      "metadata": {
        "id": "TffIDze87F-E"
      },
      "outputs": [],
      "source": [
        "import pandas as pd\n",
        "import numpy as np \n",
        "import seaborn as sns\n",
        "import matplotlib.pyplot as plt\n",
        "%matplotlib inline"
      ]
    },
    {
      "cell_type": "code",
      "source": [
        "import warnings\n",
        "warnings.filterwarnings('ignore')"
      ],
      "metadata": {
        "id": "DRLBYdas7PE0"
      },
      "execution_count": 2,
      "outputs": []
    },
    {
      "cell_type": "code",
      "source": [
        "friends = pd.read_csv(\"/friends.csv\")"
      ],
      "metadata": {
        "id": "vqcC4C3X7dQ0"
      },
      "execution_count": 5,
      "outputs": []
    },
    {
      "cell_type": "code",
      "source": [
        "friends.head(5)"
      ],
      "metadata": {
        "colab": {
          "base_uri": "https://localhost:8080/",
          "height": 354
        },
        "id": "2C5VG6F77tG1",
        "outputId": "1a80ad32-7d89-42b1-ca4c-91475ffa9ea2"
      },
      "execution_count": 6,
      "outputs": [
        {
          "output_type": "execute_result",
          "data": {
            "text/plain": [
              "   Unnamed: 0  season_number  episode_number  \\\n",
              "0           0              1               1   \n",
              "1           1              1               1   \n",
              "2           2              1               1   \n",
              "3           3              1               1   \n",
              "4           4              1               1   \n",
              "\n",
              "                                        episode_name character  \\\n",
              "0  the one where monica gets a new roommate (the ...    monica   \n",
              "1  the one where monica gets a new roommate (the ...      joey   \n",
              "2  the one where monica gets a new roommate (the ...  chandler   \n",
              "3  the one where monica gets a new roommate (the ...    phoebe   \n",
              "4  the one where monica gets a new roommate (the ...    phoebe   \n",
              "\n",
              "                                                line  \n",
              "0   there's nothing to tell! he's just some guy i...  \n",
              "1   c'mon, you're going out with the guy! there's...  \n",
              "2   all right joey, be nice.  so does he have a h...  \n",
              "3                           wait, does he eat chalk?  \n",
              "4   just, 'cause, i don't want her to go through ...  "
            ],
            "text/html": [
              "\n",
              "  <div id=\"df-afb7a1e7-e944-4834-960b-8331cc8800e0\">\n",
              "    <div class=\"colab-df-container\">\n",
              "      <div>\n",
              "<style scoped>\n",
              "    .dataframe tbody tr th:only-of-type {\n",
              "        vertical-align: middle;\n",
              "    }\n",
              "\n",
              "    .dataframe tbody tr th {\n",
              "        vertical-align: top;\n",
              "    }\n",
              "\n",
              "    .dataframe thead th {\n",
              "        text-align: right;\n",
              "    }\n",
              "</style>\n",
              "<table border=\"1\" class=\"dataframe\">\n",
              "  <thead>\n",
              "    <tr style=\"text-align: right;\">\n",
              "      <th></th>\n",
              "      <th>Unnamed: 0</th>\n",
              "      <th>season_number</th>\n",
              "      <th>episode_number</th>\n",
              "      <th>episode_name</th>\n",
              "      <th>character</th>\n",
              "      <th>line</th>\n",
              "    </tr>\n",
              "  </thead>\n",
              "  <tbody>\n",
              "    <tr>\n",
              "      <th>0</th>\n",
              "      <td>0</td>\n",
              "      <td>1</td>\n",
              "      <td>1</td>\n",
              "      <td>the one where monica gets a new roommate (the ...</td>\n",
              "      <td>monica</td>\n",
              "      <td>there's nothing to tell! he's just some guy i...</td>\n",
              "    </tr>\n",
              "    <tr>\n",
              "      <th>1</th>\n",
              "      <td>1</td>\n",
              "      <td>1</td>\n",
              "      <td>1</td>\n",
              "      <td>the one where monica gets a new roommate (the ...</td>\n",
              "      <td>joey</td>\n",
              "      <td>c'mon, you're going out with the guy! there's...</td>\n",
              "    </tr>\n",
              "    <tr>\n",
              "      <th>2</th>\n",
              "      <td>2</td>\n",
              "      <td>1</td>\n",
              "      <td>1</td>\n",
              "      <td>the one where monica gets a new roommate (the ...</td>\n",
              "      <td>chandler</td>\n",
              "      <td>all right joey, be nice.  so does he have a h...</td>\n",
              "    </tr>\n",
              "    <tr>\n",
              "      <th>3</th>\n",
              "      <td>3</td>\n",
              "      <td>1</td>\n",
              "      <td>1</td>\n",
              "      <td>the one where monica gets a new roommate (the ...</td>\n",
              "      <td>phoebe</td>\n",
              "      <td>wait, does he eat chalk?</td>\n",
              "    </tr>\n",
              "    <tr>\n",
              "      <th>4</th>\n",
              "      <td>4</td>\n",
              "      <td>1</td>\n",
              "      <td>1</td>\n",
              "      <td>the one where monica gets a new roommate (the ...</td>\n",
              "      <td>phoebe</td>\n",
              "      <td>just, 'cause, i don't want her to go through ...</td>\n",
              "    </tr>\n",
              "  </tbody>\n",
              "</table>\n",
              "</div>\n",
              "      <button class=\"colab-df-convert\" onclick=\"convertToInteractive('df-afb7a1e7-e944-4834-960b-8331cc8800e0')\"\n",
              "              title=\"Convert this dataframe to an interactive table.\"\n",
              "              style=\"display:none;\">\n",
              "        \n",
              "  <svg xmlns=\"http://www.w3.org/2000/svg\" height=\"24px\"viewBox=\"0 0 24 24\"\n",
              "       width=\"24px\">\n",
              "    <path d=\"M0 0h24v24H0V0z\" fill=\"none\"/>\n",
              "    <path d=\"M18.56 5.44l.94 2.06.94-2.06 2.06-.94-2.06-.94-.94-2.06-.94 2.06-2.06.94zm-11 1L8.5 8.5l.94-2.06 2.06-.94-2.06-.94L8.5 2.5l-.94 2.06-2.06.94zm10 10l.94 2.06.94-2.06 2.06-.94-2.06-.94-.94-2.06-.94 2.06-2.06.94z\"/><path d=\"M17.41 7.96l-1.37-1.37c-.4-.4-.92-.59-1.43-.59-.52 0-1.04.2-1.43.59L10.3 9.45l-7.72 7.72c-.78.78-.78 2.05 0 2.83L4 21.41c.39.39.9.59 1.41.59.51 0 1.02-.2 1.41-.59l7.78-7.78 2.81-2.81c.8-.78.8-2.07 0-2.86zM5.41 20L4 18.59l7.72-7.72 1.47 1.35L5.41 20z\"/>\n",
              "  </svg>\n",
              "      </button>\n",
              "      \n",
              "  <style>\n",
              "    .colab-df-container {\n",
              "      display:flex;\n",
              "      flex-wrap:wrap;\n",
              "      gap: 12px;\n",
              "    }\n",
              "\n",
              "    .colab-df-convert {\n",
              "      background-color: #E8F0FE;\n",
              "      border: none;\n",
              "      border-radius: 50%;\n",
              "      cursor: pointer;\n",
              "      display: none;\n",
              "      fill: #1967D2;\n",
              "      height: 32px;\n",
              "      padding: 0 0 0 0;\n",
              "      width: 32px;\n",
              "    }\n",
              "\n",
              "    .colab-df-convert:hover {\n",
              "      background-color: #E2EBFA;\n",
              "      box-shadow: 0px 1px 2px rgba(60, 64, 67, 0.3), 0px 1px 3px 1px rgba(60, 64, 67, 0.15);\n",
              "      fill: #174EA6;\n",
              "    }\n",
              "\n",
              "    [theme=dark] .colab-df-convert {\n",
              "      background-color: #3B4455;\n",
              "      fill: #D2E3FC;\n",
              "    }\n",
              "\n",
              "    [theme=dark] .colab-df-convert:hover {\n",
              "      background-color: #434B5C;\n",
              "      box-shadow: 0px 1px 3px 1px rgba(0, 0, 0, 0.15);\n",
              "      filter: drop-shadow(0px 1px 2px rgba(0, 0, 0, 0.3));\n",
              "      fill: #FFFFFF;\n",
              "    }\n",
              "  </style>\n",
              "\n",
              "      <script>\n",
              "        const buttonEl =\n",
              "          document.querySelector('#df-afb7a1e7-e944-4834-960b-8331cc8800e0 button.colab-df-convert');\n",
              "        buttonEl.style.display =\n",
              "          google.colab.kernel.accessAllowed ? 'block' : 'none';\n",
              "\n",
              "        async function convertToInteractive(key) {\n",
              "          const element = document.querySelector('#df-afb7a1e7-e944-4834-960b-8331cc8800e0');\n",
              "          const dataTable =\n",
              "            await google.colab.kernel.invokeFunction('convertToInteractive',\n",
              "                                                     [key], {});\n",
              "          if (!dataTable) return;\n",
              "\n",
              "          const docLinkHtml = 'Like what you see? Visit the ' +\n",
              "            '<a target=\"_blank\" href=https://colab.research.google.com/notebooks/data_table.ipynb>data table notebook</a>'\n",
              "            + ' to learn more about interactive tables.';\n",
              "          element.innerHTML = '';\n",
              "          dataTable['output_type'] = 'display_data';\n",
              "          await google.colab.output.renderOutput(dataTable, element);\n",
              "          const docLink = document.createElement('div');\n",
              "          docLink.innerHTML = docLinkHtml;\n",
              "          element.appendChild(docLink);\n",
              "        }\n",
              "      </script>\n",
              "    </div>\n",
              "  </div>\n",
              "  "
            ]
          },
          "metadata": {},
          "execution_count": 6
        }
      ]
    },
    {
      "cell_type": "code",
      "source": [
        "friends.tail(5)"
      ],
      "metadata": {
        "colab": {
          "base_uri": "https://localhost:8080/",
          "height": 354
        },
        "id": "liFzUnVp9uaZ",
        "outputId": "21285c07-b46d-44df-cf4b-ce2b9b061955"
      },
      "execution_count": 7,
      "outputs": [
        {
          "output_type": "execute_result",
          "data": {
            "text/plain": [
              "       Unnamed: 0  season_number  episode_number  \\\n",
              "61251       61251             10              17   \n",
              "61252       61252             10              17   \n",
              "61253       61253             10              17   \n",
              "61254       61254             10              17   \n",
              "61255       61255             10              17   \n",
              "\n",
              "                         episode_name character  \\\n",
              "61251  the last one part 1 and part 2  chandler   \n",
              "61252  the last one part 1 and part 2    rachel   \n",
              "61253  the last one part 1 and part 2    monica   \n",
              "61254  the last one part 1 and part 2    rachel   \n",
              "61255  the last one part 1 and part 2  chandler   \n",
              "\n",
              "                                                    line  \n",
              "61251                            oh, it's gonna be okay.  \n",
              "61252   (crying) do you guys have to go to the new ho...  \n",
              "61253                                  we got some time.  \n",
              "61254                   okay, should we get some coffee?  \n",
              "61255                                       sure. where?  "
            ],
            "text/html": [
              "\n",
              "  <div id=\"df-933b098b-7187-4260-8d7d-a2866de62f3e\">\n",
              "    <div class=\"colab-df-container\">\n",
              "      <div>\n",
              "<style scoped>\n",
              "    .dataframe tbody tr th:only-of-type {\n",
              "        vertical-align: middle;\n",
              "    }\n",
              "\n",
              "    .dataframe tbody tr th {\n",
              "        vertical-align: top;\n",
              "    }\n",
              "\n",
              "    .dataframe thead th {\n",
              "        text-align: right;\n",
              "    }\n",
              "</style>\n",
              "<table border=\"1\" class=\"dataframe\">\n",
              "  <thead>\n",
              "    <tr style=\"text-align: right;\">\n",
              "      <th></th>\n",
              "      <th>Unnamed: 0</th>\n",
              "      <th>season_number</th>\n",
              "      <th>episode_number</th>\n",
              "      <th>episode_name</th>\n",
              "      <th>character</th>\n",
              "      <th>line</th>\n",
              "    </tr>\n",
              "  </thead>\n",
              "  <tbody>\n",
              "    <tr>\n",
              "      <th>61251</th>\n",
              "      <td>61251</td>\n",
              "      <td>10</td>\n",
              "      <td>17</td>\n",
              "      <td>the last one part 1 and part 2</td>\n",
              "      <td>chandler</td>\n",
              "      <td>oh, it's gonna be okay.</td>\n",
              "    </tr>\n",
              "    <tr>\n",
              "      <th>61252</th>\n",
              "      <td>61252</td>\n",
              "      <td>10</td>\n",
              "      <td>17</td>\n",
              "      <td>the last one part 1 and part 2</td>\n",
              "      <td>rachel</td>\n",
              "      <td>(crying) do you guys have to go to the new ho...</td>\n",
              "    </tr>\n",
              "    <tr>\n",
              "      <th>61253</th>\n",
              "      <td>61253</td>\n",
              "      <td>10</td>\n",
              "      <td>17</td>\n",
              "      <td>the last one part 1 and part 2</td>\n",
              "      <td>monica</td>\n",
              "      <td>we got some time.</td>\n",
              "    </tr>\n",
              "    <tr>\n",
              "      <th>61254</th>\n",
              "      <td>61254</td>\n",
              "      <td>10</td>\n",
              "      <td>17</td>\n",
              "      <td>the last one part 1 and part 2</td>\n",
              "      <td>rachel</td>\n",
              "      <td>okay, should we get some coffee?</td>\n",
              "    </tr>\n",
              "    <tr>\n",
              "      <th>61255</th>\n",
              "      <td>61255</td>\n",
              "      <td>10</td>\n",
              "      <td>17</td>\n",
              "      <td>the last one part 1 and part 2</td>\n",
              "      <td>chandler</td>\n",
              "      <td>sure. where?</td>\n",
              "    </tr>\n",
              "  </tbody>\n",
              "</table>\n",
              "</div>\n",
              "      <button class=\"colab-df-convert\" onclick=\"convertToInteractive('df-933b098b-7187-4260-8d7d-a2866de62f3e')\"\n",
              "              title=\"Convert this dataframe to an interactive table.\"\n",
              "              style=\"display:none;\">\n",
              "        \n",
              "  <svg xmlns=\"http://www.w3.org/2000/svg\" height=\"24px\"viewBox=\"0 0 24 24\"\n",
              "       width=\"24px\">\n",
              "    <path d=\"M0 0h24v24H0V0z\" fill=\"none\"/>\n",
              "    <path d=\"M18.56 5.44l.94 2.06.94-2.06 2.06-.94-2.06-.94-.94-2.06-.94 2.06-2.06.94zm-11 1L8.5 8.5l.94-2.06 2.06-.94-2.06-.94L8.5 2.5l-.94 2.06-2.06.94zm10 10l.94 2.06.94-2.06 2.06-.94-2.06-.94-.94-2.06-.94 2.06-2.06.94z\"/><path d=\"M17.41 7.96l-1.37-1.37c-.4-.4-.92-.59-1.43-.59-.52 0-1.04.2-1.43.59L10.3 9.45l-7.72 7.72c-.78.78-.78 2.05 0 2.83L4 21.41c.39.39.9.59 1.41.59.51 0 1.02-.2 1.41-.59l7.78-7.78 2.81-2.81c.8-.78.8-2.07 0-2.86zM5.41 20L4 18.59l7.72-7.72 1.47 1.35L5.41 20z\"/>\n",
              "  </svg>\n",
              "      </button>\n",
              "      \n",
              "  <style>\n",
              "    .colab-df-container {\n",
              "      display:flex;\n",
              "      flex-wrap:wrap;\n",
              "      gap: 12px;\n",
              "    }\n",
              "\n",
              "    .colab-df-convert {\n",
              "      background-color: #E8F0FE;\n",
              "      border: none;\n",
              "      border-radius: 50%;\n",
              "      cursor: pointer;\n",
              "      display: none;\n",
              "      fill: #1967D2;\n",
              "      height: 32px;\n",
              "      padding: 0 0 0 0;\n",
              "      width: 32px;\n",
              "    }\n",
              "\n",
              "    .colab-df-convert:hover {\n",
              "      background-color: #E2EBFA;\n",
              "      box-shadow: 0px 1px 2px rgba(60, 64, 67, 0.3), 0px 1px 3px 1px rgba(60, 64, 67, 0.15);\n",
              "      fill: #174EA6;\n",
              "    }\n",
              "\n",
              "    [theme=dark] .colab-df-convert {\n",
              "      background-color: #3B4455;\n",
              "      fill: #D2E3FC;\n",
              "    }\n",
              "\n",
              "    [theme=dark] .colab-df-convert:hover {\n",
              "      background-color: #434B5C;\n",
              "      box-shadow: 0px 1px 3px 1px rgba(0, 0, 0, 0.15);\n",
              "      filter: drop-shadow(0px 1px 2px rgba(0, 0, 0, 0.3));\n",
              "      fill: #FFFFFF;\n",
              "    }\n",
              "  </style>\n",
              "\n",
              "      <script>\n",
              "        const buttonEl =\n",
              "          document.querySelector('#df-933b098b-7187-4260-8d7d-a2866de62f3e button.colab-df-convert');\n",
              "        buttonEl.style.display =\n",
              "          google.colab.kernel.accessAllowed ? 'block' : 'none';\n",
              "\n",
              "        async function convertToInteractive(key) {\n",
              "          const element = document.querySelector('#df-933b098b-7187-4260-8d7d-a2866de62f3e');\n",
              "          const dataTable =\n",
              "            await google.colab.kernel.invokeFunction('convertToInteractive',\n",
              "                                                     [key], {});\n",
              "          if (!dataTable) return;\n",
              "\n",
              "          const docLinkHtml = 'Like what you see? Visit the ' +\n",
              "            '<a target=\"_blank\" href=https://colab.research.google.com/notebooks/data_table.ipynb>data table notebook</a>'\n",
              "            + ' to learn more about interactive tables.';\n",
              "          element.innerHTML = '';\n",
              "          dataTable['output_type'] = 'display_data';\n",
              "          await google.colab.output.renderOutput(dataTable, element);\n",
              "          const docLink = document.createElement('div');\n",
              "          docLink.innerHTML = docLinkHtml;\n",
              "          element.appendChild(docLink);\n",
              "        }\n",
              "      </script>\n",
              "    </div>\n",
              "  </div>\n",
              "  "
            ]
          },
          "metadata": {},
          "execution_count": 7
        }
      ]
    },
    {
      "cell_type": "code",
      "source": [
        "friends.duplicated().sum()"
      ],
      "metadata": {
        "colab": {
          "base_uri": "https://localhost:8080/"
        },
        "id": "U7qD9DF7_WTH",
        "outputId": "4b5c20d2-6b22-483a-fc40-7ebbcf9b66a1"
      },
      "execution_count": 15,
      "outputs": [
        {
          "output_type": "execute_result",
          "data": {
            "text/plain": [
              "0"
            ]
          },
          "metadata": {},
          "execution_count": 15
        }
      ]
    },
    {
      "cell_type": "code",
      "source": [
        "friends.loc[233,'Episode_Title'] = \"The Last One I\"\n",
        "friends.loc[234,\"Episode_Title\"] = \"The Last One II\""
      ],
      "metadata": {
        "id": "jnLbvaWL-M-u"
      },
      "execution_count": 16,
      "outputs": []
    },
    {
      "cell_type": "code",
      "source": [
        "friends.head()"
      ],
      "metadata": {
        "colab": {
          "base_uri": "https://localhost:8080/",
          "height": 441
        },
        "id": "1IDq-3lI-CEY",
        "outputId": "50f3e5e8-15cb-4be1-a26e-26bc5999393f"
      },
      "execution_count": 17,
      "outputs": [
        {
          "output_type": "execute_result",
          "data": {
            "text/plain": [
              "   Unnamed: 0  season_number  episode_number  \\\n",
              "0           0              1               1   \n",
              "1           1              1               1   \n",
              "2           2              1               1   \n",
              "3           3              1               1   \n",
              "4           4              1               1   \n",
              "\n",
              "                                        episode_name character  \\\n",
              "0  the one where monica gets a new roommate (the ...    monica   \n",
              "1  the one where monica gets a new roommate (the ...      joey   \n",
              "2  the one where monica gets a new roommate (the ...  chandler   \n",
              "3  the one where monica gets a new roommate (the ...    phoebe   \n",
              "4  the one where monica gets a new roommate (the ...    phoebe   \n",
              "\n",
              "                                                line Episode_Title  \n",
              "0   there's nothing to tell! he's just some guy i...           NaN  \n",
              "1   c'mon, you're going out with the guy! there's...           NaN  \n",
              "2   all right joey, be nice.  so does he have a h...           NaN  \n",
              "3                           wait, does he eat chalk?           NaN  \n",
              "4   just, 'cause, i don't want her to go through ...           NaN  "
            ],
            "text/html": [
              "\n",
              "  <div id=\"df-bfdee648-5238-41c2-927d-093418ce12c1\">\n",
              "    <div class=\"colab-df-container\">\n",
              "      <div>\n",
              "<style scoped>\n",
              "    .dataframe tbody tr th:only-of-type {\n",
              "        vertical-align: middle;\n",
              "    }\n",
              "\n",
              "    .dataframe tbody tr th {\n",
              "        vertical-align: top;\n",
              "    }\n",
              "\n",
              "    .dataframe thead th {\n",
              "        text-align: right;\n",
              "    }\n",
              "</style>\n",
              "<table border=\"1\" class=\"dataframe\">\n",
              "  <thead>\n",
              "    <tr style=\"text-align: right;\">\n",
              "      <th></th>\n",
              "      <th>Unnamed: 0</th>\n",
              "      <th>season_number</th>\n",
              "      <th>episode_number</th>\n",
              "      <th>episode_name</th>\n",
              "      <th>character</th>\n",
              "      <th>line</th>\n",
              "      <th>Episode_Title</th>\n",
              "    </tr>\n",
              "  </thead>\n",
              "  <tbody>\n",
              "    <tr>\n",
              "      <th>0</th>\n",
              "      <td>0</td>\n",
              "      <td>1</td>\n",
              "      <td>1</td>\n",
              "      <td>the one where monica gets a new roommate (the ...</td>\n",
              "      <td>monica</td>\n",
              "      <td>there's nothing to tell! he's just some guy i...</td>\n",
              "      <td>NaN</td>\n",
              "    </tr>\n",
              "    <tr>\n",
              "      <th>1</th>\n",
              "      <td>1</td>\n",
              "      <td>1</td>\n",
              "      <td>1</td>\n",
              "      <td>the one where monica gets a new roommate (the ...</td>\n",
              "      <td>joey</td>\n",
              "      <td>c'mon, you're going out with the guy! there's...</td>\n",
              "      <td>NaN</td>\n",
              "    </tr>\n",
              "    <tr>\n",
              "      <th>2</th>\n",
              "      <td>2</td>\n",
              "      <td>1</td>\n",
              "      <td>1</td>\n",
              "      <td>the one where monica gets a new roommate (the ...</td>\n",
              "      <td>chandler</td>\n",
              "      <td>all right joey, be nice.  so does he have a h...</td>\n",
              "      <td>NaN</td>\n",
              "    </tr>\n",
              "    <tr>\n",
              "      <th>3</th>\n",
              "      <td>3</td>\n",
              "      <td>1</td>\n",
              "      <td>1</td>\n",
              "      <td>the one where monica gets a new roommate (the ...</td>\n",
              "      <td>phoebe</td>\n",
              "      <td>wait, does he eat chalk?</td>\n",
              "      <td>NaN</td>\n",
              "    </tr>\n",
              "    <tr>\n",
              "      <th>4</th>\n",
              "      <td>4</td>\n",
              "      <td>1</td>\n",
              "      <td>1</td>\n",
              "      <td>the one where monica gets a new roommate (the ...</td>\n",
              "      <td>phoebe</td>\n",
              "      <td>just, 'cause, i don't want her to go through ...</td>\n",
              "      <td>NaN</td>\n",
              "    </tr>\n",
              "  </tbody>\n",
              "</table>\n",
              "</div>\n",
              "      <button class=\"colab-df-convert\" onclick=\"convertToInteractive('df-bfdee648-5238-41c2-927d-093418ce12c1')\"\n",
              "              title=\"Convert this dataframe to an interactive table.\"\n",
              "              style=\"display:none;\">\n",
              "        \n",
              "  <svg xmlns=\"http://www.w3.org/2000/svg\" height=\"24px\"viewBox=\"0 0 24 24\"\n",
              "       width=\"24px\">\n",
              "    <path d=\"M0 0h24v24H0V0z\" fill=\"none\"/>\n",
              "    <path d=\"M18.56 5.44l.94 2.06.94-2.06 2.06-.94-2.06-.94-.94-2.06-.94 2.06-2.06.94zm-11 1L8.5 8.5l.94-2.06 2.06-.94-2.06-.94L8.5 2.5l-.94 2.06-2.06.94zm10 10l.94 2.06.94-2.06 2.06-.94-2.06-.94-.94-2.06-.94 2.06-2.06.94z\"/><path d=\"M17.41 7.96l-1.37-1.37c-.4-.4-.92-.59-1.43-.59-.52 0-1.04.2-1.43.59L10.3 9.45l-7.72 7.72c-.78.78-.78 2.05 0 2.83L4 21.41c.39.39.9.59 1.41.59.51 0 1.02-.2 1.41-.59l7.78-7.78 2.81-2.81c.8-.78.8-2.07 0-2.86zM5.41 20L4 18.59l7.72-7.72 1.47 1.35L5.41 20z\"/>\n",
              "  </svg>\n",
              "      </button>\n",
              "      \n",
              "  <style>\n",
              "    .colab-df-container {\n",
              "      display:flex;\n",
              "      flex-wrap:wrap;\n",
              "      gap: 12px;\n",
              "    }\n",
              "\n",
              "    .colab-df-convert {\n",
              "      background-color: #E8F0FE;\n",
              "      border: none;\n",
              "      border-radius: 50%;\n",
              "      cursor: pointer;\n",
              "      display: none;\n",
              "      fill: #1967D2;\n",
              "      height: 32px;\n",
              "      padding: 0 0 0 0;\n",
              "      width: 32px;\n",
              "    }\n",
              "\n",
              "    .colab-df-convert:hover {\n",
              "      background-color: #E2EBFA;\n",
              "      box-shadow: 0px 1px 2px rgba(60, 64, 67, 0.3), 0px 1px 3px 1px rgba(60, 64, 67, 0.15);\n",
              "      fill: #174EA6;\n",
              "    }\n",
              "\n",
              "    [theme=dark] .colab-df-convert {\n",
              "      background-color: #3B4455;\n",
              "      fill: #D2E3FC;\n",
              "    }\n",
              "\n",
              "    [theme=dark] .colab-df-convert:hover {\n",
              "      background-color: #434B5C;\n",
              "      box-shadow: 0px 1px 3px 1px rgba(0, 0, 0, 0.15);\n",
              "      filter: drop-shadow(0px 1px 2px rgba(0, 0, 0, 0.3));\n",
              "      fill: #FFFFFF;\n",
              "    }\n",
              "  </style>\n",
              "\n",
              "      <script>\n",
              "        const buttonEl =\n",
              "          document.querySelector('#df-bfdee648-5238-41c2-927d-093418ce12c1 button.colab-df-convert');\n",
              "        buttonEl.style.display =\n",
              "          google.colab.kernel.accessAllowed ? 'block' : 'none';\n",
              "\n",
              "        async function convertToInteractive(key) {\n",
              "          const element = document.querySelector('#df-bfdee648-5238-41c2-927d-093418ce12c1');\n",
              "          const dataTable =\n",
              "            await google.colab.kernel.invokeFunction('convertToInteractive',\n",
              "                                                     [key], {});\n",
              "          if (!dataTable) return;\n",
              "\n",
              "          const docLinkHtml = 'Like what you see? Visit the ' +\n",
              "            '<a target=\"_blank\" href=https://colab.research.google.com/notebooks/data_table.ipynb>data table notebook</a>'\n",
              "            + ' to learn more about interactive tables.';\n",
              "          element.innerHTML = '';\n",
              "          dataTable['output_type'] = 'display_data';\n",
              "          await google.colab.output.renderOutput(dataTable, element);\n",
              "          const docLink = document.createElement('div');\n",
              "          docLink.innerHTML = docLinkHtml;\n",
              "          element.appendChild(docLink);\n",
              "        }\n",
              "      </script>\n",
              "    </div>\n",
              "  </div>\n",
              "  "
            ]
          },
          "metadata": {},
          "execution_count": 17
        }
      ]
    },
    {
      "cell_type": "code",
      "source": [
        "friends.tail(5)"
      ],
      "metadata": {
        "colab": {
          "base_uri": "https://localhost:8080/",
          "height": 372
        },
        "id": "dA22ESNi-xW6",
        "outputId": "3a29ed52-7d23-4644-dafc-cb663b75daf7"
      },
      "execution_count": 18,
      "outputs": [
        {
          "output_type": "execute_result",
          "data": {
            "text/plain": [
              "       Unnamed: 0  season_number  episode_number  \\\n",
              "61251       61251             10              17   \n",
              "61252       61252             10              17   \n",
              "61253       61253             10              17   \n",
              "61254       61254             10              17   \n",
              "61255       61255             10              17   \n",
              "\n",
              "                         episode_name character  \\\n",
              "61251  the last one part 1 and part 2  chandler   \n",
              "61252  the last one part 1 and part 2    rachel   \n",
              "61253  the last one part 1 and part 2    monica   \n",
              "61254  the last one part 1 and part 2    rachel   \n",
              "61255  the last one part 1 and part 2  chandler   \n",
              "\n",
              "                                                    line Episode_Title  \n",
              "61251                            oh, it's gonna be okay.           NaN  \n",
              "61252   (crying) do you guys have to go to the new ho...           NaN  \n",
              "61253                                  we got some time.           NaN  \n",
              "61254                   okay, should we get some coffee?           NaN  \n",
              "61255                                       sure. where?           NaN  "
            ],
            "text/html": [
              "\n",
              "  <div id=\"df-344c6443-411c-43cd-ae2d-49ba061f7360\">\n",
              "    <div class=\"colab-df-container\">\n",
              "      <div>\n",
              "<style scoped>\n",
              "    .dataframe tbody tr th:only-of-type {\n",
              "        vertical-align: middle;\n",
              "    }\n",
              "\n",
              "    .dataframe tbody tr th {\n",
              "        vertical-align: top;\n",
              "    }\n",
              "\n",
              "    .dataframe thead th {\n",
              "        text-align: right;\n",
              "    }\n",
              "</style>\n",
              "<table border=\"1\" class=\"dataframe\">\n",
              "  <thead>\n",
              "    <tr style=\"text-align: right;\">\n",
              "      <th></th>\n",
              "      <th>Unnamed: 0</th>\n",
              "      <th>season_number</th>\n",
              "      <th>episode_number</th>\n",
              "      <th>episode_name</th>\n",
              "      <th>character</th>\n",
              "      <th>line</th>\n",
              "      <th>Episode_Title</th>\n",
              "    </tr>\n",
              "  </thead>\n",
              "  <tbody>\n",
              "    <tr>\n",
              "      <th>61251</th>\n",
              "      <td>61251</td>\n",
              "      <td>10</td>\n",
              "      <td>17</td>\n",
              "      <td>the last one part 1 and part 2</td>\n",
              "      <td>chandler</td>\n",
              "      <td>oh, it's gonna be okay.</td>\n",
              "      <td>NaN</td>\n",
              "    </tr>\n",
              "    <tr>\n",
              "      <th>61252</th>\n",
              "      <td>61252</td>\n",
              "      <td>10</td>\n",
              "      <td>17</td>\n",
              "      <td>the last one part 1 and part 2</td>\n",
              "      <td>rachel</td>\n",
              "      <td>(crying) do you guys have to go to the new ho...</td>\n",
              "      <td>NaN</td>\n",
              "    </tr>\n",
              "    <tr>\n",
              "      <th>61253</th>\n",
              "      <td>61253</td>\n",
              "      <td>10</td>\n",
              "      <td>17</td>\n",
              "      <td>the last one part 1 and part 2</td>\n",
              "      <td>monica</td>\n",
              "      <td>we got some time.</td>\n",
              "      <td>NaN</td>\n",
              "    </tr>\n",
              "    <tr>\n",
              "      <th>61254</th>\n",
              "      <td>61254</td>\n",
              "      <td>10</td>\n",
              "      <td>17</td>\n",
              "      <td>the last one part 1 and part 2</td>\n",
              "      <td>rachel</td>\n",
              "      <td>okay, should we get some coffee?</td>\n",
              "      <td>NaN</td>\n",
              "    </tr>\n",
              "    <tr>\n",
              "      <th>61255</th>\n",
              "      <td>61255</td>\n",
              "      <td>10</td>\n",
              "      <td>17</td>\n",
              "      <td>the last one part 1 and part 2</td>\n",
              "      <td>chandler</td>\n",
              "      <td>sure. where?</td>\n",
              "      <td>NaN</td>\n",
              "    </tr>\n",
              "  </tbody>\n",
              "</table>\n",
              "</div>\n",
              "      <button class=\"colab-df-convert\" onclick=\"convertToInteractive('df-344c6443-411c-43cd-ae2d-49ba061f7360')\"\n",
              "              title=\"Convert this dataframe to an interactive table.\"\n",
              "              style=\"display:none;\">\n",
              "        \n",
              "  <svg xmlns=\"http://www.w3.org/2000/svg\" height=\"24px\"viewBox=\"0 0 24 24\"\n",
              "       width=\"24px\">\n",
              "    <path d=\"M0 0h24v24H0V0z\" fill=\"none\"/>\n",
              "    <path d=\"M18.56 5.44l.94 2.06.94-2.06 2.06-.94-2.06-.94-.94-2.06-.94 2.06-2.06.94zm-11 1L8.5 8.5l.94-2.06 2.06-.94-2.06-.94L8.5 2.5l-.94 2.06-2.06.94zm10 10l.94 2.06.94-2.06 2.06-.94-2.06-.94-.94-2.06-.94 2.06-2.06.94z\"/><path d=\"M17.41 7.96l-1.37-1.37c-.4-.4-.92-.59-1.43-.59-.52 0-1.04.2-1.43.59L10.3 9.45l-7.72 7.72c-.78.78-.78 2.05 0 2.83L4 21.41c.39.39.9.59 1.41.59.51 0 1.02-.2 1.41-.59l7.78-7.78 2.81-2.81c.8-.78.8-2.07 0-2.86zM5.41 20L4 18.59l7.72-7.72 1.47 1.35L5.41 20z\"/>\n",
              "  </svg>\n",
              "      </button>\n",
              "      \n",
              "  <style>\n",
              "    .colab-df-container {\n",
              "      display:flex;\n",
              "      flex-wrap:wrap;\n",
              "      gap: 12px;\n",
              "    }\n",
              "\n",
              "    .colab-df-convert {\n",
              "      background-color: #E8F0FE;\n",
              "      border: none;\n",
              "      border-radius: 50%;\n",
              "      cursor: pointer;\n",
              "      display: none;\n",
              "      fill: #1967D2;\n",
              "      height: 32px;\n",
              "      padding: 0 0 0 0;\n",
              "      width: 32px;\n",
              "    }\n",
              "\n",
              "    .colab-df-convert:hover {\n",
              "      background-color: #E2EBFA;\n",
              "      box-shadow: 0px 1px 2px rgba(60, 64, 67, 0.3), 0px 1px 3px 1px rgba(60, 64, 67, 0.15);\n",
              "      fill: #174EA6;\n",
              "    }\n",
              "\n",
              "    [theme=dark] .colab-df-convert {\n",
              "      background-color: #3B4455;\n",
              "      fill: #D2E3FC;\n",
              "    }\n",
              "\n",
              "    [theme=dark] .colab-df-convert:hover {\n",
              "      background-color: #434B5C;\n",
              "      box-shadow: 0px 1px 3px 1px rgba(0, 0, 0, 0.15);\n",
              "      filter: drop-shadow(0px 1px 2px rgba(0, 0, 0, 0.3));\n",
              "      fill: #FFFFFF;\n",
              "    }\n",
              "  </style>\n",
              "\n",
              "      <script>\n",
              "        const buttonEl =\n",
              "          document.querySelector('#df-344c6443-411c-43cd-ae2d-49ba061f7360 button.colab-df-convert');\n",
              "        buttonEl.style.display =\n",
              "          google.colab.kernel.accessAllowed ? 'block' : 'none';\n",
              "\n",
              "        async function convertToInteractive(key) {\n",
              "          const element = document.querySelector('#df-344c6443-411c-43cd-ae2d-49ba061f7360');\n",
              "          const dataTable =\n",
              "            await google.colab.kernel.invokeFunction('convertToInteractive',\n",
              "                                                     [key], {});\n",
              "          if (!dataTable) return;\n",
              "\n",
              "          const docLinkHtml = 'Like what you see? Visit the ' +\n",
              "            '<a target=\"_blank\" href=https://colab.research.google.com/notebooks/data_table.ipynb>data table notebook</a>'\n",
              "            + ' to learn more about interactive tables.';\n",
              "          element.innerHTML = '';\n",
              "          dataTable['output_type'] = 'display_data';\n",
              "          await google.colab.output.renderOutput(dataTable, element);\n",
              "          const docLink = document.createElement('div');\n",
              "          docLink.innerHTML = docLinkHtml;\n",
              "          element.appendChild(docLink);\n",
              "        }\n",
              "      </script>\n",
              "    </div>\n",
              "  </div>\n",
              "  "
            ]
          },
          "metadata": {},
          "execution_count": 18
        }
      ]
    },
    {
      "cell_type": "code",
      "source": [
        "friends.duplicated().sum()"
      ],
      "metadata": {
        "colab": {
          "base_uri": "https://localhost:8080/"
        },
        "id": "KSZOFWOB-3zX",
        "outputId": "c10b764e-86c7-4ccd-ff37-f63d4772ebde"
      },
      "execution_count": 19,
      "outputs": [
        {
          "output_type": "execute_result",
          "data": {
            "text/plain": [
              "0"
            ]
          },
          "metadata": {},
          "execution_count": 19
        }
      ]
    },
    {
      "cell_type": "code",
      "source": [
        "friends.info()"
      ],
      "metadata": {
        "colab": {
          "base_uri": "https://localhost:8080/"
        },
        "id": "R0hGA3Km_KhV",
        "outputId": "2a92bb4c-f79a-49bf-d28e-91ed4ec2e0c2"
      },
      "execution_count": 20,
      "outputs": [
        {
          "output_type": "stream",
          "name": "stdout",
          "text": [
            "<class 'pandas.core.frame.DataFrame'>\n",
            "RangeIndex: 61256 entries, 0 to 61255\n",
            "Data columns (total 7 columns):\n",
            " #   Column          Non-Null Count  Dtype \n",
            "---  ------          --------------  ----- \n",
            " 0   Unnamed: 0      61256 non-null  int64 \n",
            " 1   season_number   61256 non-null  int64 \n",
            " 2   episode_number  61256 non-null  int64 \n",
            " 3   episode_name    61256 non-null  object\n",
            " 4   character       61256 non-null  object\n",
            " 5   line            61256 non-null  object\n",
            " 6   Episode_Title   2 non-null      object\n",
            "dtypes: int64(3), object(4)\n",
            "memory usage: 3.3+ MB\n"
          ]
        }
      ]
    },
    {
      "cell_type": "code",
      "source": [
        "friends['season_number'] = friends['season_number'].astype(\"object\")"
      ],
      "metadata": {
        "id": "phOsaUu1_m5S"
      },
      "execution_count": 22,
      "outputs": []
    },
    {
      "cell_type": "code",
      "source": [
        "friends.info()"
      ],
      "metadata": {
        "colab": {
          "base_uri": "https://localhost:8080/"
        },
        "id": "f_UWEBWRBkej",
        "outputId": "dd98b039-af7b-47b5-a50a-ed1d6bc6cdd5"
      },
      "execution_count": 23,
      "outputs": [
        {
          "output_type": "stream",
          "name": "stdout",
          "text": [
            "<class 'pandas.core.frame.DataFrame'>\n",
            "RangeIndex: 61256 entries, 0 to 61255\n",
            "Data columns (total 7 columns):\n",
            " #   Column          Non-Null Count  Dtype \n",
            "---  ------          --------------  ----- \n",
            " 0   Unnamed: 0      61256 non-null  int64 \n",
            " 1   season_number   61256 non-null  object\n",
            " 2   episode_number  61256 non-null  int64 \n",
            " 3   episode_name    61256 non-null  object\n",
            " 4   character       61256 non-null  object\n",
            " 5   line            61256 non-null  object\n",
            " 6   Episode_Title   2 non-null      object\n",
            "dtypes: int64(2), object(5)\n",
            "memory usage: 3.3+ MB\n"
          ]
        }
      ]
    },
    {
      "cell_type": "code",
      "source": [
        "friends.shape"
      ],
      "metadata": {
        "colab": {
          "base_uri": "https://localhost:8080/"
        },
        "id": "yRwxzpheDBmh",
        "outputId": "9cc910ab-2c29-4521-de77-677d3f035cfb"
      },
      "execution_count": 24,
      "outputs": [
        {
          "output_type": "execute_result",
          "data": {
            "text/plain": [
              "(61256, 7)"
            ]
          },
          "metadata": {},
          "execution_count": 24
        }
      ]
    },
    {
      "cell_type": "code",
      "source": [
        "friends['season_number'].value_counts().sort_index()\n"
      ],
      "metadata": {
        "colab": {
          "base_uri": "https://localhost:8080/"
        },
        "id": "Yk7StzKSDJRw",
        "outputId": "b6cac854-dddb-4095-9f59-e6242dfb6242"
      },
      "execution_count": 39,
      "outputs": [
        {
          "output_type": "execute_result",
          "data": {
            "text/plain": [
              "1     5976\n",
              "2     5768\n",
              "3     6498\n",
              "4     6009\n",
              "5     6224\n",
              "6     6462\n",
              "7     6318\n",
              "8     6225\n",
              "9     6482\n",
              "10    5294\n",
              "Name: season_number, dtype: int64"
            ]
          },
          "metadata": {},
          "execution_count": 39
        }
      ]
    },
    {
      "cell_type": "code",
      "source": [
        "friends['episode_number'].value_counts().sort_index()"
      ],
      "metadata": {
        "colab": {
          "base_uri": "https://localhost:8080/"
        },
        "id": "xRaMVRshFEgi",
        "outputId": "c60272fd-ac6c-41d4-ef66-508c7235bb5f"
      },
      "execution_count": 40,
      "outputs": [
        {
          "output_type": "execute_result",
          "data": {
            "text/plain": [
              "1     2666\n",
              "2     2451\n",
              "3     2506\n",
              "4     2416\n",
              "5     2694\n",
              "6     2589\n",
              "7     2449\n",
              "8     2574\n",
              "9     2581\n",
              "10    2550\n",
              "11    2624\n",
              "12    2517\n",
              "13    3006\n",
              "14    2273\n",
              "15    2563\n",
              "16    2709\n",
              "17    2867\n",
              "18    2551\n",
              "19    2154\n",
              "20    2399\n",
              "21    2471\n",
              "22    2432\n",
              "23    3442\n",
              "24    1484\n",
              "25     288\n",
              "Name: episode_number, dtype: int64"
            ]
          },
          "metadata": {},
          "execution_count": 40
        }
      ]
    },
    {
      "cell_type": "code",
      "source": [
        "friends['character']\n"
      ],
      "metadata": {
        "colab": {
          "base_uri": "https://localhost:8080/"
        },
        "id": "cm-sN4i4K5F8",
        "outputId": "c9ca8d35-1fe6-4f46-b5ab-dce11682d6ff"
      },
      "execution_count": 44,
      "outputs": [
        {
          "output_type": "execute_result",
          "data": {
            "text/plain": [
              "0          monica\n",
              "1            joey\n",
              "2        chandler\n",
              "3          phoebe\n",
              "4          phoebe\n",
              "           ...   \n",
              "61251    chandler\n",
              "61252      rachel\n",
              "61253      monica\n",
              "61254      rachel\n",
              "61255    chandler\n",
              "Name: character, Length: 61256, dtype: object"
            ]
          },
          "metadata": {},
          "execution_count": 44
        }
      ]
    },
    {
      "cell_type": "code",
      "source": [
        "friends['character'].count()"
      ],
      "metadata": {
        "colab": {
          "base_uri": "https://localhost:8080/"
        },
        "id": "obHH_pcoOz7K",
        "outputId": "adde195c-1be6-4c3e-de2f-6b0068ad3469"
      },
      "execution_count": 57,
      "outputs": [
        {
          "output_type": "execute_result",
          "data": {
            "text/plain": [
              "61256"
            ]
          },
          "metadata": {},
          "execution_count": 57
        }
      ]
    },
    {
      "cell_type": "code",
      "source": [
        "friends['episode_name'].duplicated().sum()"
      ],
      "metadata": {
        "colab": {
          "base_uri": "https://localhost:8080/"
        },
        "id": "ub39uht-MG0y",
        "outputId": "96dd3881-8deb-46c7-c2d8-3bb4bc599dbc"
      },
      "execution_count": 53,
      "outputs": [
        {
          "output_type": "execute_result",
          "data": {
            "text/plain": [
              "61027"
            ]
          },
          "metadata": {},
          "execution_count": 53
        }
      ]
    },
    {
      "cell_type": "code",
      "source": [
        "from google.colab import drive\n",
        "drive.mount('/content/drive')"
      ],
      "metadata": {
        "id": "cCRboZDtR6lP"
      },
      "execution_count": null,
      "outputs": []
    },
    {
      "cell_type": "code",
      "source": [
        ""
      ],
      "metadata": {
        "id": "MxB3DyUBMpOE"
      },
      "execution_count": null,
      "outputs": []
    }
  ]
}