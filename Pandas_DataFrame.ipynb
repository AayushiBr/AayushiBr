{
  "nbformat": 4,
  "nbformat_minor": 0,
  "metadata": {
    "colab": {
      "name": "Pandas DataFrame.ipynb",
      "provenance": [],
      "collapsed_sections": [],
      "authorship_tag": "ABX9TyNALqOuSXmRFVdstAunLX1x",
      "include_colab_link": true
    },
    "kernelspec": {
      "name": "python3",
      "display_name": "Python 3"
    },
    "language_info": {
      "name": "python"
    }
  },
  "cells": [
    {
      "cell_type": "markdown",
      "metadata": {
        "id": "view-in-github",
        "colab_type": "text"
      },
      "source": [
        "<a href=\"https://colab.research.google.com/github/AayushiBr/AayushiBr/blob/main/Pandas_DataFrame.ipynb\" target=\"_parent\"><img src=\"https://colab.research.google.com/assets/colab-badge.svg\" alt=\"Open In Colab\"/></a>"
      ]
    },
    {
      "cell_type": "markdown",
      "source": [
        "**DataFrame:** A DataFrame is similar to an in-memory spreadsheet. Like a spreadsheet:\n",
        "\n",
        "*   A DataFrame stores data in cells.\n",
        "*   A DataFrame has named columns (usually) and numbered rows.\n",
        "\n",
        "\n"
      ],
      "metadata": {
        "id": "7isjrIfGI-MB"
      }
    },
    {
      "cell_type": "markdown",
      "source": [
        "**Import NumPy and pandas modules**"
      ],
      "metadata": {
        "id": "bvSPXrpLJYbw"
      }
    },
    {
      "cell_type": "code",
      "execution_count": 5,
      "metadata": {
        "id": "ZcsP4gFWck4e"
      },
      "outputs": [],
      "source": [
        "import numpy as np"
      ]
    },
    {
      "cell_type": "code",
      "source": [
        "import pandas as pd"
      ],
      "metadata": {
        "id": "KViKnytkc8T4"
      },
      "execution_count": 6,
      "outputs": []
    },
    {
      "cell_type": "markdown",
      "source": [
        "**Creating a DataFrame:**\n",
        "The following code cell creates a simple DataFrame containing 10 cells organized as follows:\n",
        "*   5 rows\n",
        "*   2 columns, one named temperature and the other named activity\n",
        "\n",
        "The following code cell instantiates a pd.DataFrame class to generate a DataFrame. The class takes two arguments:\n",
        "*   The first argument provides the data to populate the 10 cells. The code cell calls np.array to generate the 5x2 NumPy array\n",
        "*   The second argument identifies the names of the two columns\n"
      ],
      "metadata": {
        "id": "wTlNElYeJfzE"
      }
    },
    {
      "cell_type": "code",
      "source": [
        "my_data = np.array([[0,3],[10,7],[20,9],[30,14],[40,15]])"
      ],
      "metadata": {
        "id": "_2bEv69uc_mP"
      },
      "execution_count": 7,
      "outputs": []
    },
    {
      "cell_type": "code",
      "source": [
        "my_column_names=['temperature','activity']"
      ],
      "metadata": {
        "id": "s4UwF2uGdsvQ"
      },
      "execution_count": 8,
      "outputs": []
    },
    {
      "cell_type": "code",
      "source": [
        "my_dataframe=pd.DataFrame(data=my_data, columns=my_column_names)"
      ],
      "metadata": {
        "id": "pEQe9eTceErN"
      },
      "execution_count": 9,
      "outputs": []
    },
    {
      "cell_type": "markdown",
      "source": [
        "**Adding a new column to a DataFrame**\n",
        "\n",
        "You may add a new column to an existing pandas DataFrame just by assigning values to a new column name. For example, the following code creates a third column named adjusted in my_dataframe:"
      ],
      "metadata": {
        "id": "e55mPmpiKaBz"
      }
    },
    {
      "cell_type": "code",
      "source": [
        "my_dataframe[\"adjusted\"]=my_dataframe[\"activity\"]+2"
      ],
      "metadata": {
        "id": "JEH1EBFLepfx"
      },
      "execution_count": 11,
      "outputs": []
    },
    {
      "cell_type": "code",
      "source": [
        "print(my_dataframe)"
      ],
      "metadata": {
        "colab": {
          "base_uri": "https://localhost:8080/"
        },
        "id": "qBWBebHCelUY",
        "outputId": "aaf9385d-4a4a-4a8d-b132-76e571a0b872"
      },
      "execution_count": 10,
      "outputs": [
        {
          "output_type": "stream",
          "name": "stdout",
          "text": [
            "   temperature  activity\n",
            "0            0         3\n",
            "1           10         7\n",
            "2           20         9\n",
            "3           30        14\n",
            "4           40        15\n"
          ]
        }
      ]
    },
    {
      "cell_type": "code",
      "source": [
        "print(my_dataframe)"
      ],
      "metadata": {
        "colab": {
          "base_uri": "https://localhost:8080/"
        },
        "id": "X_X0bltDfa_A",
        "outputId": "dbf33aca-e600-4d79-946d-1e84f03ea45d"
      },
      "execution_count": 12,
      "outputs": [
        {
          "output_type": "stream",
          "name": "stdout",
          "text": [
            "   temperature  activity  adjusted\n",
            "0            0         3         5\n",
            "1           10         7         9\n",
            "2           20         9        11\n",
            "3           30        14        16\n",
            "4           40        15        17\n"
          ]
        }
      ]
    },
    {
      "cell_type": "markdown",
      "source": [
        "**Specifying a subset of a DataFrame**\n",
        "\n",
        "Pandas provide multiples ways to isolate specific rows, columns, slices or cells in a DataFrame."
      ],
      "metadata": {
        "id": "P82vFiYHKjNf"
      }
    },
    {
      "cell_type": "code",
      "source": [
        "print(\"Row #0, #1, and #2\")"
      ],
      "metadata": {
        "colab": {
          "base_uri": "https://localhost:8080/"
        },
        "id": "9MtNjxNOffZO",
        "outputId": "9bf09d1d-4a65-4736-f590-629aa9c562be"
      },
      "execution_count": 13,
      "outputs": [
        {
          "output_type": "stream",
          "name": "stdout",
          "text": [
            "Row #0, #1, and #2\n"
          ]
        }
      ]
    },
    {
      "cell_type": "code",
      "source": [
        "print(my_dataframe.head(3),'\\n')"
      ],
      "metadata": {
        "colab": {
          "base_uri": "https://localhost:8080/"
        },
        "id": "p74T2NpIf8CB",
        "outputId": "37d1fc31-ac09-461b-c8e2-623987a261ef"
      },
      "execution_count": 14,
      "outputs": [
        {
          "output_type": "stream",
          "name": "stdout",
          "text": [
            "   temperature  activity  adjusted\n",
            "0            0         3         5\n",
            "1           10         7         9\n",
            "2           20         9        11 \n",
            "\n"
          ]
        }
      ]
    },
    {
      "cell_type": "code",
      "source": [
        "print(\"Row #2\")"
      ],
      "metadata": {
        "colab": {
          "base_uri": "https://localhost:8080/"
        },
        "id": "XyTDDt6ggFmm",
        "outputId": "89550c23-df32-4ece-db68-032d9c69d0c3"
      },
      "execution_count": 15,
      "outputs": [
        {
          "output_type": "stream",
          "name": "stdout",
          "text": [
            "Row #2\n"
          ]
        }
      ]
    },
    {
      "cell_type": "code",
      "source": [
        "print(my_dataframe.iloc[[2]],'\\n')"
      ],
      "metadata": {
        "colab": {
          "base_uri": "https://localhost:8080/"
        },
        "id": "P_fX5_YTgR3O",
        "outputId": "9e60b892-d1b9-482e-9294-bd5eec773b2f"
      },
      "execution_count": 16,
      "outputs": [
        {
          "output_type": "stream",
          "name": "stdout",
          "text": [
            "   temperature  activity  adjusted\n",
            "2           20         9        11 \n",
            "\n"
          ]
        }
      ]
    },
    {
      "cell_type": "code",
      "source": [
        "print(\"Row #1,#2, and #3\")"
      ],
      "metadata": {
        "colab": {
          "base_uri": "https://localhost:8080/"
        },
        "id": "8kz5yer4gdAz",
        "outputId": "388a57df-496c-4f11-ffae-0362ca1259e8"
      },
      "execution_count": 17,
      "outputs": [
        {
          "output_type": "stream",
          "name": "stdout",
          "text": [
            "Row #1,#2, and #3\n"
          ]
        }
      ]
    },
    {
      "cell_type": "code",
      "source": [
        "print(my_dataframe[1:4],'\\n')"
      ],
      "metadata": {
        "colab": {
          "base_uri": "https://localhost:8080/"
        },
        "id": "1Difqo6Igqhk",
        "outputId": "b505a8cc-cf88-4e3c-88bf-88e28ddbfb19"
      },
      "execution_count": 18,
      "outputs": [
        {
          "output_type": "stream",
          "name": "stdout",
          "text": [
            "   temperature  activity  adjusted\n",
            "1           10         7         9\n",
            "2           20         9        11\n",
            "3           30        14        16 \n",
            "\n"
          ]
        }
      ]
    },
    {
      "cell_type": "code",
      "source": [
        "print(\"Column 'temperature':\")"
      ],
      "metadata": {
        "colab": {
          "base_uri": "https://localhost:8080/"
        },
        "id": "I2KKQkqng3uC",
        "outputId": "f0b64e44-8840-42cc-cdc3-a1bb590397d6"
      },
      "execution_count": 19,
      "outputs": [
        {
          "output_type": "stream",
          "name": "stdout",
          "text": [
            "Column 'temperature':\n"
          ]
        }
      ]
    },
    {
      "cell_type": "code",
      "source": [
        "print(my_dataframe['temperature'])"
      ],
      "metadata": {
        "colab": {
          "base_uri": "https://localhost:8080/"
        },
        "id": "YW2dgKdthJgC",
        "outputId": "127718f2-13d8-46d6-a854-4e4c26ebbc0e"
      },
      "execution_count": 20,
      "outputs": [
        {
          "output_type": "stream",
          "name": "stdout",
          "text": [
            "0     0\n",
            "1    10\n",
            "2    20\n",
            "3    30\n",
            "4    40\n",
            "Name: temperature, dtype: int64\n"
          ]
        }
      ]
    },
    {
      "cell_type": "markdown",
      "source": [
        "**Create a DataFrame**\n",
        "\n",
        "\n",
        "1. Create an 3x4 (3 rows x 4 columns) pandas DataFrame in which the columns are named Aayushi, Nikita, Vipul and Sonal. Populate each of the 12 cells in the DataFrame with a random integer between 0 and 100, inclusive.\n",
        "\n",
        "2. Output the following:\n",
        "* the entire DataFrame\n",
        "* the value in the cell of row #1 of the Eleanor column\n",
        "3. Create a fifth column named Janet, which is populated with the row-by-row sums of Tahani and Jason."
      ],
      "metadata": {
        "id": "1DTQ1IjmMEi5"
      }
    },
    {
      "cell_type": "code",
      "source": [
        "my_column_name=['Aayushi','Nikita','Vipul','Sonal']"
      ],
      "metadata": {
        "id": "CB3HBLzMhQmC"
      },
      "execution_count": 21,
      "outputs": []
    },
    {
      "cell_type": "code",
      "source": [
        "my_data=np.random.randint(low=0,high=101,size=(3,4))"
      ],
      "metadata": {
        "id": "cH1Qc9xliJWU"
      },
      "execution_count": 22,
      "outputs": []
    },
    {
      "cell_type": "code",
      "source": [
        "df=pd.DataFrame(data=my_data,columns=my_column_name)"
      ],
      "metadata": {
        "id": "h2fQ34_fig-C"
      },
      "execution_count": 23,
      "outputs": []
    },
    {
      "cell_type": "code",
      "source": [
        "print(df)"
      ],
      "metadata": {
        "colab": {
          "base_uri": "https://localhost:8080/"
        },
        "id": "0XdQUOHuitjL",
        "outputId": "f463a4f6-92a9-42cf-eceb-eda2cbf8589f"
      },
      "execution_count": 24,
      "outputs": [
        {
          "output_type": "stream",
          "name": "stdout",
          "text": [
            "   Aayushi  Nikita  Vipul  Sonal\n",
            "0       37      22     72     70\n",
            "1       51      21     24     21\n",
            "2       35     100     54     87\n"
          ]
        }
      ]
    },
    {
      "cell_type": "code",
      "source": [
        "print(\"\\n Second row of the Aayushi column: %d\\n\" %df['Aayushi'][1])"
      ],
      "metadata": {
        "colab": {
          "base_uri": "https://localhost:8080/"
        },
        "id": "sJWx0w6Diw8_",
        "outputId": "77fe74fc-76a2-48ba-c8d4-fb13ea88f5d9"
      },
      "execution_count": 25,
      "outputs": [
        {
          "output_type": "stream",
          "name": "stdout",
          "text": [
            "\n",
            " Second row of the Aayushi column: 51\n",
            "\n"
          ]
        }
      ]
    },
    {
      "cell_type": "code",
      "source": [
        "df['Janet']=df['Vipul'] + df['Sonal']"
      ],
      "metadata": {
        "id": "XrlWvim9jg7v"
      },
      "execution_count": 26,
      "outputs": []
    },
    {
      "cell_type": "code",
      "source": [
        "print(df)"
      ],
      "metadata": {
        "colab": {
          "base_uri": "https://localhost:8080/"
        },
        "id": "xkv3vdYAj09o",
        "outputId": "812a6e8b-9d26-4438-d8d2-10a58801952d"
      },
      "execution_count": 27,
      "outputs": [
        {
          "output_type": "stream",
          "name": "stdout",
          "text": [
            "   Aayushi  Nikita  Vipul  Sonal  Janet\n",
            "0       37      22     72     70    142\n",
            "1       51      21     24     21     45\n",
            "2       35     100     54     87    141\n"
          ]
        }
      ]
    },
    {
      "cell_type": "code",
      "source": [
        "print(\"Experiment with a reference:\")\n",
        "reference_to_df=df"
      ],
      "metadata": {
        "colab": {
          "base_uri": "https://localhost:8080/"
        },
        "id": "ei_PuPoIkAd7",
        "outputId": "529f9fb7-c11a-4f93-ec5e-567b42e8e421"
      },
      "execution_count": 28,
      "outputs": [
        {
          "output_type": "stream",
          "name": "stdout",
          "text": [
            "Experiment with a reference:\n"
          ]
        }
      ]
    },
    {
      "cell_type": "code",
      "source": [
        "print(\" Starting value of df: %d\" %df['Sonal'][1])"
      ],
      "metadata": {
        "colab": {
          "base_uri": "https://localhost:8080/"
        },
        "id": "8h-S75h3kiYX",
        "outputId": "1afab277-5dda-4c29-bce5-c08aeadc7694"
      },
      "execution_count": 29,
      "outputs": [
        {
          "output_type": "stream",
          "name": "stdout",
          "text": [
            " Starting value of df: 21\n"
          ]
        }
      ]
    },
    {
      "cell_type": "code",
      "source": [
        "print(\" Starting value of refernce_to_df: %d\\n\" %reference_to_df['Sonal'][1])"
      ],
      "metadata": {
        "colab": {
          "base_uri": "https://localhost:8080/"
        },
        "id": "-QkyiDdTk__u",
        "outputId": "2a0f2997-dc8b-4acd-c00d-d432081ac6ea"
      },
      "execution_count": 30,
      "outputs": [
        {
          "output_type": "stream",
          "name": "stdout",
          "text": [
            " Starting value of refernce_to_df: 21\n",
            "\n"
          ]
        }
      ]
    },
    {
      "cell_type": "code",
      "source": [
        "df.at[1,'Sonal']=df['Sonal'][1]+5"
      ],
      "metadata": {
        "id": "CqOZjdsGlRss"
      },
      "execution_count": 31,
      "outputs": []
    },
    {
      "cell_type": "code",
      "source": [
        "print(\"Updated df : %d\" %df['Sonal'][1])"
      ],
      "metadata": {
        "colab": {
          "base_uri": "https://localhost:8080/"
        },
        "id": "zeXiPaqaloYp",
        "outputId": "8e084fbb-87b1-4d62-b288-54933ab5be6b"
      },
      "execution_count": 32,
      "outputs": [
        {
          "output_type": "stream",
          "name": "stdout",
          "text": [
            "Updated df : 26\n"
          ]
        }
      ]
    },
    {
      "cell_type": "code",
      "source": [
        "print(\"Updated reference_to_df : %d\\n\\n\" %reference_to_df['Sonal'][1])"
      ],
      "metadata": {
        "colab": {
          "base_uri": "https://localhost:8080/"
        },
        "id": "Q8VZRLXHF2aQ",
        "outputId": "88c120dd-b32f-4f3f-ad57-b05c9d5604f5"
      },
      "execution_count": 35,
      "outputs": [
        {
          "output_type": "stream",
          "name": "stdout",
          "text": [
            "Updated reference_to_df : 26\n",
            "\n",
            "\n"
          ]
        }
      ]
    },
    {
      "cell_type": "markdown",
      "source": [
        "**Copying a DataFrame** \n",
        "\n",
        "Pandas provides two different ways to duplicate a DataFrame:\n",
        "\n",
        "* **Referencing** - If you assign a DataFrame to a new variable, any change to the DataFrame or to the new variable will be reflected in the other.\n",
        "* **Copying** - If you call the pd.DataFrame.copy method, you create a true independent copy. Changes to the original DataFrame or to the copy will not be reflected in the other.\n",
        "\n",
        "The difference is subtle, but important."
      ],
      "metadata": {
        "id": "Pv3k-zXoM-Lw"
      }
    },
    {
      "cell_type": "code",
      "source": [
        "print(\"Experiment with a true copy:\")"
      ],
      "metadata": {
        "colab": {
          "base_uri": "https://localhost:8080/"
        },
        "id": "uRpJdKizGnqU",
        "outputId": "47868076-7a08-45bf-fc50-72cb87b7b8dd"
      },
      "execution_count": 36,
      "outputs": [
        {
          "output_type": "stream",
          "name": "stdout",
          "text": [
            "Experiment with a true copy:\n"
          ]
        }
      ]
    },
    {
      "cell_type": "code",
      "source": [
        "copy_of_my_dataframe=my_dataframe.copy()"
      ],
      "metadata": {
        "id": "r8bbO14ZG7yU"
      },
      "execution_count": 37,
      "outputs": []
    },
    {
      "cell_type": "code",
      "source": [
        "print(\" Starting value of my_dataframe: %d\" %my_dataframe['activity'][1])"
      ],
      "metadata": {
        "colab": {
          "base_uri": "https://localhost:8080/"
        },
        "id": "r4guBviUHGJe",
        "outputId": "b8445e49-5f68-42bb-8436-6af46ce6c789"
      },
      "execution_count": 38,
      "outputs": [
        {
          "output_type": "stream",
          "name": "stdout",
          "text": [
            " Starting value of my_dataframe: 7\n"
          ]
        }
      ]
    },
    {
      "cell_type": "code",
      "source": [
        "print(\" Starting value of copy_of_my_dataframe: %d\" %copy_of_my_dataframe['activity'][1])"
      ],
      "metadata": {
        "colab": {
          "base_uri": "https://localhost:8080/"
        },
        "id": "Dn-7B2bRHYwe",
        "outputId": "41511c34-efec-491e-c372-1c594fc2800e"
      },
      "execution_count": 39,
      "outputs": [
        {
          "output_type": "stream",
          "name": "stdout",
          "text": [
            " Starting value of copy_of_my_dataframe: 7\n"
          ]
        }
      ]
    },
    {
      "cell_type": "code",
      "source": [
        "my_dataframe.at[1,'activity']=my_dataframe['activity'][1]+3"
      ],
      "metadata": {
        "id": "73kP5g3EHhI3"
      },
      "execution_count": 40,
      "outputs": []
    },
    {
      "cell_type": "code",
      "source": [
        "print(\"Updated my_dataframe: %d\" %my_dataframe['activity'][1])"
      ],
      "metadata": {
        "colab": {
          "base_uri": "https://localhost:8080/"
        },
        "id": "Rid6FUMBH_TF",
        "outputId": "259353a7-50d6-4230-a323-7c2247ea4dc7"
      },
      "execution_count": 41,
      "outputs": [
        {
          "output_type": "stream",
          "name": "stdout",
          "text": [
            "Updated my_dataframe: 10\n"
          ]
        }
      ]
    },
    {
      "cell_type": "code",
      "source": [
        "print(\"copy_of_my_dataframe does not get updated %d\" %copy_of_my_dataframe['activity'][1])"
      ],
      "metadata": {
        "colab": {
          "base_uri": "https://localhost:8080/"
        },
        "id": "fFS1619YIeZu",
        "outputId": "d5055255-cc07-45ae-9bb4-2f6cb865fef7"
      },
      "execution_count": 42,
      "outputs": [
        {
          "output_type": "stream",
          "name": "stdout",
          "text": [
            "copy_of_my_dataframe does not get updated 7\n"
          ]
        }
      ]
    }
  ]
}